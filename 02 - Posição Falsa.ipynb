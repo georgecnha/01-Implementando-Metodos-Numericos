{
  "cells": [
    {
      "metadata": {
        "trusted": true
      },
      "cell_type": "code",
      "source": "#Método da Posição Falsa\n\n#Função Polinomial\ndef poli(xi):\n    y=xi**3 -9*xi +5\n    return(y)\n\n#Definição de variáveis\na=float(input('Digite a: '))\nb=float(input('Digite b: '))\ne= 10**-2\nx= ((a*poli(b))-(b*poli(a)))/(poli(b)-poli(a))\nx0=0\nk=1\n\n#Função Principal\n# abs() Calcula o módulo\nwhile abs(poli(x))>e and abs(a-b)>e:\n    x= ((a*poli(b))-(b*poli(a)))/(poli(b)-poli(a))\n    if poli(x)<0:\n        b=x\n    if poli(x)>0:\n        a=x\n    k=k+1    \n\nprint ('a:{}; b:{}; x:{};'.format(a, b, x))\nprint ('x é aproximadamente {}, calculado em {} iterações'.format(x, k))",
      "execution_count": 1,
      "outputs": [
        {
          "output_type": "stream",
          "name": "stdout",
          "text": "Digite a: 1\nDigite b: 2\na:-0.5; b:0.5775674516593791; x:0.5775674516593791;\nx é aproximadamente 0.5775674516593791, calculado em 6 iterações\n"
        }
      ]
    },
    {
      "metadata": {
        "trusted": false
      },
      "cell_type": "code",
      "source": "",
      "execution_count": null,
      "outputs": []
    }
  ],
  "metadata": {
    "kernelspec": {
      "name": "python36",
      "display_name": "Python 3.6",
      "language": "python"
    },
    "language_info": {
      "mimetype": "text/x-python",
      "nbconvert_exporter": "python",
      "name": "python",
      "pygments_lexer": "ipython3",
      "version": "3.6.6",
      "file_extension": ".py",
      "codemirror_mode": {
        "version": 3,
        "name": "ipython"
      }
    }
  },
  "nbformat": 4,
  "nbformat_minor": 2
}