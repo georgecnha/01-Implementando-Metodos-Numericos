{
 "cells": [
  {
   "cell_type": "markdown",
   "metadata": {},
   "source": [
    "## II. MÉTODO DA POSIÇÃO FALSA\n",
    "\n",
    "\n",
    "Seja $f(x)$ contínua no intervalo $[a, b]$ e tal que $f(a)f(b) < 0$.\n",
    "\n",
    "\n",
    "Supor que o intervalo $(a, b)$ contenha uma única raiz da equação f(x) = 0.\n",
    "\n",
    "\n",
    "Podemos esperar conseguir a raiz aproximada $\\bar{\\text{x}}$ usando as informações sobre os valores de $f(x)$ disponíveis a cada iteração.\n",
    "No caso do método da bissecção, $x$ é simplesmente a média aritmética entre a e b:\n",
    "\n",
    "\n",
    "$$x = \\dfrac{a+b}{2}$$\n",
    "\n",
    "Assim, em vez de tomar a média aritmética entre a e b, o método da posição falsa toma a média aritmética ponderada entre a e b com pesos $| f(b) |$ e $| f(a) |$, respectivamente:\n",
    "\n",
    "$$x= \\dfrac{a|f(b)| + b|f(a)|}{|f(b) - f(a)|}$$\n",
    "<img src=\"mposf1.png\">\n",
    "\n",
    "\n",
    "\n",
    "RUGGIERO, Márcia A. Gomes; LOPES, Vera Lúcia da Rocha. Cálculo numérico: aspectos teóricos e computacionais. Makron Books do Brasil, 1997"
   ]
  },
  {
   "cell_type": "code",
   "execution_count": 1,
   "metadata": {},
   "outputs": [
    {
     "name": "stdout",
     "output_type": "stream",
     "text": [
      "Digite a: 0\n",
      "Digite b: 1\n",
      "a:0.0; b:0.3386243386243386; x:0.33763504551140067;\n",
      "x é aproximadamente 0.33763504551140067, calculado em 3 iterações\n"
     ]
    }
   ],
   "source": [
    "#Método da Posição Falsa\n",
    "\n",
    "#Função Polinomial\n",
    "def poli(xi):\n",
    "    y=xi**3 -9*xi +3\n",
    "    return(y)\n",
    "\n",
    "#Definição de variáveis\n",
    "a=float(input('Digite a: '))\n",
    "b=float(input('Digite b: '))\n",
    "\n",
    "e= 5*10**(-4)\n",
    "\n",
    "x= ((a*poli(b)) - (b*poli(a))) /(poli(b)-poli(a))\n",
    "\n",
    "k=1\n",
    "\n",
    "#Função Principal\n",
    "# abs() Calcula o módulo\n",
    "while abs(poli(x))>e and abs(a-b)>e:\n",
    "    if poli(x)<0:\n",
    "        b=x\n",
    "    if poli(x)>0:\n",
    "        a=x\n",
    "    x= ((a*poli(b))-(b*poli(a)))/(poli(b)-poli(a))\n",
    "    k=k+1\n",
    "    \n",
    "\n",
    "print (f'a:{a}; b:{b}; x:{x};')\n",
    "print (f'x é aproximadamente {x}, calculado em {k} iterações')"
   ]
  },
  {
   "cell_type": "code",
   "execution_count": 2,
   "metadata": {},
   "outputs": [],
   "source": [
    "#Encapsulando o método em uma função\n",
    "\n",
    "def PFalsa (f, a, b, epsilon, maxIter):\n",
    "    x= (a*f(b) - b*f(a)) / (f(b) - f(a))\n",
    "    c=0\n",
    "    \n",
    "    while abs(f(x)) > epsilon and abs(a-b) > epsilon and c <=maxIter:\n",
    "        #Utiliza a fórmula do coeficiente angular da secante\n",
    "        \n",
    "        if f(x)>0: \n",
    "            a=x\n",
    "        elif f(x)<0:\n",
    "            b=x\n",
    "        c=c+1\n",
    "        print(f'x={x}')\n",
    "        x=(a*f(b) - b*f(a))/(f(b) - f(a))\n",
    "        \n",
    "    if c==maxIter:\n",
    "        print('NÚMERO MÁXIMO DE ITERAÇÕES EXCEDIDO!!!')\n",
    "        return x\n",
    "    \n",
    "    else:\n",
    "        print('')\n",
    "        print(f'a={a}; b={b}; x={x}')\n",
    "        print(f'x é aproximadamente igual a {x}, calculado em {c} iterações')\n",
    "        return x"
   ]
  },
  {
   "cell_type": "code",
   "execution_count": 3,
   "metadata": {},
   "outputs": [
    {
     "name": "stdout",
     "output_type": "stream",
     "text": [
      "x=0.375\n",
      "x=0.3386243386243386\n",
      "\n",
      "a=0; b=0.3386243386243386; x=0.33763504551140067\n",
      "x é aproximadamente igual a 0.33763504551140067, calculado em 2 iterações\n",
      "CPU times: total: 0 ns\n",
      "Wall time: 1 ms\n"
     ]
    },
    {
     "data": {
      "text/plain": [
       "0.33763504551140067"
      ]
     },
     "execution_count": 3,
     "metadata": {},
     "output_type": "execute_result"
    }
   ],
   "source": [
    "%%time\n",
    "#Método da Posição Falsa aplicado em x³ -9x + 3\n",
    "\n",
    "def f(xi):\n",
    "    y= xi**3 -9*xi +3\n",
    "    return(y)\n",
    "\n",
    "a = 0\n",
    "b = 1\n",
    "epsilon= 5*(10**(-4))\n",
    "maxIter = 150\n",
    "\n",
    "PFalsa(f, a, b, epsilon, maxIter)"
   ]
  },
  {
   "cell_type": "code",
   "execution_count": null,
   "metadata": {},
   "outputs": [],
   "source": []
  }
 ],
 "metadata": {
  "kernelspec": {
   "display_name": "Python 3 (ipykernel)",
   "language": "python",
   "name": "python3"
  },
  "language_info": {
   "codemirror_mode": {
    "name": "ipython",
    "version": 3
   },
   "file_extension": ".py",
   "mimetype": "text/x-python",
   "name": "python",
   "nbconvert_exporter": "python",
   "pygments_lexer": "ipython3",
   "version": "3.9.12"
  }
 },
 "nbformat": 4,
 "nbformat_minor": 2
}
