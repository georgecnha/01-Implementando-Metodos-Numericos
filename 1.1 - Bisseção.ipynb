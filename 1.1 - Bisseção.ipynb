{
 "cells": [
  {
   "cell_type": "code",
   "execution_count": 4,
   "metadata": {},
   "outputs": [],
   "source": [
    "from __future__ import division\n",
    "def bissecao(f, a, b, TOL, N):\n",
    "    i = 1\n",
    "    fa = f(a)\n",
    "    while (i <= N):\n",
    "#iteracao da bissecao\n",
    "        p = a + (b-a)/2\n",
    "        fp = f(p)\n",
    "#condicao de parada\n",
    "        if ((fp == 0) or ((b-a)/2 < TOL)):\n",
    "            return p\n",
    "#bissecta o intervalo\n",
    "        i = i+1\n",
    "        if (fa * fp > 0):\n",
    "            a = p\n",
    "            fa = fp\n",
    "        else:\n",
    "            b = p\n",
    "        raise NameError('Num. max. de iter. excedido!');"
   ]
  },
  {
   "cell_type": "code",
   "execution_count": null,
   "metadata": {},
   "outputs": [],
   "source": []
  }
 ],
 "metadata": {
  "kernelspec": {
   "display_name": "Python 3.6",
   "language": "python",
   "name": "python36"
  },
  "language_info": {
   "codemirror_mode": {
    "name": "ipython",
    "version": 3
   },
   "file_extension": ".py",
   "mimetype": "text/x-python",
   "name": "python",
   "nbconvert_exporter": "python",
   "pygments_lexer": "ipython3",
   "version": "3.6.3"
  }
 },
 "nbformat": 4,
 "nbformat_minor": 2
}
