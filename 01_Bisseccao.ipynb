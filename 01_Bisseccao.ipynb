{
 "cells": [
  {
   "cell_type": "markdown",
   "metadata": {},
   "source": [
    "# I. MÉTODO DA BISSECÇÃO\n",
    "\n",
    "Seja a função $f(x)$ contínua no intervalo $[a, b]$ e tal que $f(a)f(b)<0$.\n",
    "Vamos supor, para simplificar, que o intervalo (a, b) contenha uma única raiz da equação $f(x) = 0$.\n",
    "\n",
    "O objetivo deste método é reduzir a amplitude do intervalo que contém a raiz até se atingir a precisão requerida: $(b-a)<\\varepsilon$, usando para isto a sucessiva divisão de $[a, b]$ ao meio.\n",
    "\n",
    "\n",
    "RUGGIERO, Márcia A. Gomes; LOPES, Vera Lúcia da Rocha. Cálculo numérico: aspectos teóricos e computacionais. Makron Books do Brasil, 1997"
   ]
  },
  {
   "cell_type": "code",
   "execution_count": 1,
   "metadata": {},
   "outputs": [
    {
     "name": "stdout",
     "output_type": "stream",
     "text": [
      "a: 0\n",
      "b: 1\n",
      "a=0.5625;b=0.578125;x=0.578125\n",
      "O valor de x é aproximadamente igual a 0.578125. Calculado em 6 iterações.\n"
     ]
    }
   ],
   "source": [
    "# Bissecção x³ - 9x + 5 com a=0.5 e b=1\n",
    "\n",
    "# Função para polinômio\n",
    "def poli(xi):\n",
    "    f = (xi ** 3) - (9 * xi) + 5\n",
    "    return (f)\n",
    "\n",
    "\n",
    "a = float(input('a: '))\n",
    "b = float(input('b: '))\n",
    "e = 10 ** (-2)\n",
    "x = (a + b) / 2\n",
    "c=0\n",
    "\n",
    "# Função Principal\n",
    "while abs(poli(x)) > e and abs(a-b)>e: #abs é módulo.\n",
    "    x = (a + b) / 2\n",
    "    if poli(x) < 0:\n",
    "        b = x\n",
    "    elif poli(x) > 0:\n",
    "        a = x\n",
    "    c=c+1\n",
    "    \n",
    "print(f'a={a};b={b};x={x}')\n",
    "print(f'O valor de x é aproximadamente igual a {x}. Calculado em {c} iterações.')"
   ]
  },
  {
   "cell_type": "code",
   "execution_count": 2,
   "metadata": {},
   "outputs": [],
   "source": [
    "#Encapsulando o método em uma função\n",
    "\n",
    "def bissecao(f, a, b, epsilon, maxIter = 100):\n",
    "    \n",
    "    x = (a + b) / 2\n",
    "    c=0\n",
    "    \n",
    "    while abs(f(x)) > epsilon and abs(a-b)>epsilon: #abs é módulo.\n",
    "        x = (a + b) / 2\n",
    "        if c == maxIter:\n",
    "            print('Máximo de iterações atingido!')\n",
    "            return x\n",
    "        if f(x) < 0:\n",
    "            b = x\n",
    "        elif f(x) > 0:\n",
    "            a = x\n",
    "        c=c+1\n",
    "    print(f'a={a};b={b};x={x}')\n",
    "    print(f'O valor de x é aproximadamente igual a {x}. Calculado em {c} iterações.')\n",
    "    return x\n",
    "    \n",
    "    \n"
   ]
  },
  {
   "cell_type": "code",
   "execution_count": 3,
   "metadata": {},
   "outputs": [
    {
     "name": "stdout",
     "output_type": "stream",
     "text": [
      "a=0.5625;b=0.578125;x=0.578125\n",
      "O valor de x é aproximadamente igual a 0.578125. Calculado em 6 iterações.\n",
      "CPU times: total: 0 ns\n",
      "Wall time: 0 ns\n"
     ]
    },
    {
     "data": {
      "text/plain": [
       "0.578125"
      ]
     },
     "execution_count": 3,
     "metadata": {},
     "output_type": "execute_result"
    }
   ],
   "source": [
    "%%time\n",
    "\n",
    "#Testando a função\n",
    "\n",
    "\n",
    "def f(x):\n",
    "    f = (x ** 3) - (9 * x) + 5\n",
    "    return (f)\n",
    "\n",
    "a = 0\n",
    "b = 1\n",
    "epsilon = 10**(-2)\n",
    "maxIter = 20\n",
    "\n",
    "bissecao(f,a,b,epsilon, maxIter)"
   ]
  }
 ],
 "metadata": {
  "kernelspec": {
   "display_name": "Python 3 (ipykernel)",
   "language": "python",
   "name": "python3"
  },
  "language_info": {
   "codemirror_mode": {
    "name": "ipython",
    "version": 3
   },
   "file_extension": ".py",
   "mimetype": "text/x-python",
   "name": "python",
   "nbconvert_exporter": "python",
   "pygments_lexer": "ipython3",
   "version": "3.9.12"
  }
 },
 "nbformat": 4,
 "nbformat_minor": 2
}
