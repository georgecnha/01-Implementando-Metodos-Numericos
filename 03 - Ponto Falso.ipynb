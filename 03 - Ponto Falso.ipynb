{
 "cells": [
  {
   "cell_type": "code",
   "execution_count": 3,
   "metadata": {},
   "outputs": [
    {
     "name": "stdout",
     "output_type": "stream",
     "text": [
      "Digite o valor de a: 0.5\n",
      "Digite o valor de b: 1.0\n",
      "a=0.5; b=0.5770344044260434; x=0.5770344044260434\n",
      "x é aproximadamente igual a 0.5770344044260434, calculado em 3 iterações\n"
     ]
    }
   ],
   "source": [
    "#Método da Posição Falsa aplicado em x³ -9x + 5\n",
    "\n",
    "def poli(xi):\n",
    "    y= xi**3 -9*xi +5\n",
    "    return(y)\n",
    "\n",
    "a=float(input('Digite o valor de a: '))\n",
    "b=float(input('Digite o valor de b: '))\n",
    "e=10**(-2)\n",
    "c=1\n",
    "x=((a*poli(b)) - (b*(poli(a))))/(poli(b) - poli(a))\n",
    "\n",
    "while abs(poli(x))>e and abs(a-b)>e and c<150:\n",
    "    x=((a*poli(b)) - (b*(poli(a))))/(poli(b) - poli(a)) #Utiliza a fórmula do coeficiente angular da secante\n",
    "    if poli(x)>0: \n",
    "        a=x\n",
    "    elif poli(x)<0:\n",
    "        b=x\n",
    "    c=c+1\n",
    "    \n",
    "if c==150:\n",
    "    print('NÚMERO MÁXIMO DE ITERAÇÕES EXCEDIDO!!!')\n",
    "elif c<150:\n",
    "    print('a={}; b={}; x={}'.format(a, b, x))\n",
    "    print('x é aproximadamente igual a {}, calculado em {} iterações'. format(x,c))"
   ]
  },
  {
   "cell_type": "code",
   "execution_count": null,
   "metadata": {},
   "outputs": [],
   "source": []
  }
 ],
 "metadata": {
  "kernelspec": {
   "display_name": "Python 3.6",
   "language": "python",
   "name": "python36"
  },
  "language_info": {
   "codemirror_mode": {
    "name": "ipython",
    "version": 3
   },
   "file_extension": ".py",
   "mimetype": "text/x-python",
   "name": "python",
   "nbconvert_exporter": "python",
   "pygments_lexer": "ipython3",
   "version": "3.6.3"
  }
 },
 "nbformat": 4,
 "nbformat_minor": 2
}
