{
 "cells": [
  {
   "cell_type": "code",
   "execution_count": 1,
   "metadata": {},
   "outputs": [
    {
     "name": "stdout",
     "output_type": "stream",
     "text": [
      "a: 0.5\n",
      "b: 1.0\n",
      "a=0.5625;b=0.578125;x=0.578125\n",
      "O valor de x é aproximadamente igual a 0.578125. Calculado em 5 iterações.\n"
     ]
    }
   ],
   "source": [
    "# Bissecção x³ - 9x + 5 com a=0.5 e b=1\n",
    "\n",
    "# Função para polinômio\n",
    "def poli(xi):\n",
    "    f = (xi ** 3) - (9 * xi) + 5\n",
    "    return (f)\n",
    "\n",
    "\n",
    "a = float(input('a: '))\n",
    "b = float(input('b: '))\n",
    "e = 10 ** (-2)\n",
    "x = (a + b) / 2\n",
    "c=0\n",
    "# Função Principal\n",
    "while abs(poli(x)) > e and abs(a-b)>e: #abs é módulo.\n",
    "    x = (a + b) / 2\n",
    "    if poli(x) < 0:\n",
    "        b = x\n",
    "    elif poli(x) > 0:\n",
    "        a = x\n",
    "    c=c+1\n",
    "print('a={};b={};x={}'.format(a, b, x))\n",
    "print('O valor de x é aproximadamente igual a {}. Calculado em {} iterações.'.format(x,c))"
   ]
  },
  {
   "cell_type": "code",
   "execution_count": null,
   "metadata": {},
   "outputs": [],
   "source": []
  }
 ],
 "metadata": {
  "kernelspec": {
   "display_name": "Python 3.6",
   "language": "python",
   "name": "python36"
  },
  "language_info": {
   "codemirror_mode": {
    "name": "ipython",
    "version": 3
   },
   "file_extension": ".py",
   "mimetype": "text/x-python",
   "name": "python",
   "nbconvert_exporter": "python",
   "pygments_lexer": "ipython3",
   "version": "3.6.3"
  }
 },
 "nbformat": 4,
 "nbformat_minor": 2
}
