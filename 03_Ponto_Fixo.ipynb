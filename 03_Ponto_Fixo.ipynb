{
 "cells": [
  {
   "cell_type": "markdown",
   "metadata": {},
   "source": [
    "# III. MÉTODO DO PONTO FIXO (MPF)\n",
    "\n",
    "A importância deste método está mais nos conceitos que são introduzidos em seu estudo que em sua eficiência computacional.\n",
    "\n",
    "Seja $f(x)$ uma função contínua em $[a, b]$, intervalo que contém uma raiz da equação $f(x) = 0$.\n",
    "\n",
    "O MPF consiste em transformar esta equação em uma equação equivalente $x = \\varphi(x)$ e a partir de uma aproximação inicial $x_0$ gerar a seqüência $\\{x_k\\}$ de aproximações para $\\xi$ pela relação $x_{k+1} = \\varphi(x_k)$, pois a função $q(x)$ é tal que $f(\\xi) = 0$ se e somente se $\\varphi(\\xi)=\\xi$. Transformamos assim o problema de encontrar um zero de f(x) no problema de encontrar um ponto fixo de $\\varphi(x)$.\n",
    "\n",
    "Uma função $\\varphi(x)$ que satisfaz a condição acima é chamada de função de iteração para a equação $f(x) = 0$."
   ]
  },
  {
   "cell_type": "code",
   "execution_count": 1,
   "metadata": {},
   "outputs": [
    {
     "name": "stdout",
     "output_type": "stream",
     "text": [
      "Digite o valor inicial (sua estimativa de x no intervalo): 1.5\n",
      "x=2.1213203435596424\n",
      "x=1.9694363803993156\n",
      "x=2.0076263645411423\n",
      "x=1.9980924992249127\n",
      "x0=2.0076263645411423\n",
      "O x é aproximadamente igual a 1.9980924992249127, calculado em 4 iterações\n",
      "CPU times: total: 0 ns\n",
      "Wall time: 3.5 s\n"
     ]
    }
   ],
   "source": [
    "%%time\n",
    "#Método do Ponto Fixo\n",
    "# x² + x -6\n",
    "\n",
    "#Função F(x)\n",
    "def poli(xi):\n",
    "    y= xi**2 + xi -6\n",
    "    return (y)\n",
    "\n",
    "#Cálculo de raízes aproximadas\n",
    "def fi(xi):\n",
    "    \"\"\"o \\phi é o x isolado da equação\"\"\"\n",
    "    fi= (6 - xi)**(1/2)\n",
    "    return(fi)\n",
    "\n",
    "#Atribuição de variáveis\n",
    "x= float(input('Digite o valor inicial (sua estimativa de x no intervalo): '))\n",
    "e=10**(-2)   #erro\n",
    "k= 0       #Contador\n",
    "x0=x+2*e\n",
    "\n",
    "\n",
    "#Função Principal\n",
    "while abs(poli(x))>=e and abs(x-x0)>=e and k<150:\n",
    "    x0=x\n",
    "    x= fi(x)\n",
    "    k= k+1\n",
    "    print(f'x={x}')\n",
    "\n",
    "if k == 150:\n",
    "    print(f\"Limite de {k} iterações alcançado!\")\n",
    "else:\n",
    "    print (f'x0={x0}')\n",
    "    print (f'O x é aproximadamente igual a {x}, calculado em {k} iterações')"
   ]
  },
  {
   "cell_type": "markdown",
   "metadata": {},
   "source": [
    "## Encapsulando o método em uma função"
   ]
  },
  {
   "cell_type": "code",
   "execution_count": 2,
   "metadata": {},
   "outputs": [],
   "source": [
    "def PFixo(f, fi, x, epsilon, maxIter=150):\n",
    "    k=0\n",
    "    x0=x+ 2*e\n",
    "    while abs(f(x))>=epsilon and abs(x-x0)>=epsilon and k<150:\n",
    "        x0=x\n",
    "        x= fi(x)\n",
    "        k= k+1\n",
    "    if k == maxIter:\n",
    "        raise(f\"Limite de {k} iterações alcançado!\")\n",
    "    else:\n",
    "        print (f'x0={x0}')\n",
    "        print (f'O x é aproximadamente igual a {x}, calculado em {k} iterações')\n",
    "        return x"
   ]
  },
  {
   "cell_type": "code",
   "execution_count": 3,
   "metadata": {},
   "outputs": [
    {
     "name": "stdout",
     "output_type": "stream",
     "text": [
      "x0=2.0076263645411423\n",
      "O x é aproximadamente igual a 1.9980924992249127, calculado em 4 iterações\n"
     ]
    },
    {
     "data": {
      "text/plain": [
       "1.9980924992249127"
      ]
     },
     "execution_count": 3,
     "metadata": {},
     "output_type": "execute_result"
    }
   ],
   "source": [
    "#Método do Ponto Fixo\n",
    "# x² + x -6\n",
    "\n",
    "def f(xi):\n",
    "    y= xi**2 + xi -6\n",
    "    return (y)\n",
    "\n",
    "def fi(xi):\n",
    "    \"\"\"o \\phi é o x isolado da equação\"\"\"\n",
    "    fi= (6 - xi)**(1/2)\n",
    "    return(fi)\n",
    "\n",
    "epsilon = 10**(-2)\n",
    "x = 1.5 \n",
    "\n",
    "PFixo(f, fi, x, epsilon)"
   ]
  }
 ],
 "metadata": {
  "kernelspec": {
   "display_name": "Python 3 (ipykernel)",
   "language": "python",
   "name": "python3"
  },
  "language_info": {
   "codemirror_mode": {
    "name": "ipython",
    "version": 3
   },
   "file_extension": ".py",
   "mimetype": "text/x-python",
   "name": "python",
   "nbconvert_exporter": "python",
   "pygments_lexer": "ipython3",
   "version": "3.9.12"
  }
 },
 "nbformat": 4,
 "nbformat_minor": 2
}
